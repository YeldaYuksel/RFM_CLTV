{
 "cells": [
  {
   "cell_type": "markdown",
   "id": "a123d8e5",
   "metadata": {
    "papermill": {
     "duration": 0.002972,
     "end_time": "2024-09-10T01:21:44.276901",
     "exception": false,
     "start_time": "2024-09-10T01:21:44.273929",
     "status": "completed"
    },
    "tags": []
   },
   "source": [
    "**Customer Segmentation with RFM**"
   ]
  },
  {
   "cell_type": "code",
   "execution_count": 1,
   "id": "48d59b72",
   "metadata": {
    "execution": {
     "iopub.execute_input": "2024-09-10T01:21:44.284206Z",
     "iopub.status.busy": "2024-09-10T01:21:44.283753Z",
     "iopub.status.idle": "2024-09-10T01:21:44.753283Z",
     "shell.execute_reply": "2024-09-10T01:21:44.752127Z"
    },
    "papermill": {
     "duration": 0.476487,
     "end_time": "2024-09-10T01:21:44.756205",
     "exception": false,
     "start_time": "2024-09-10T01:21:44.279718",
     "status": "completed"
    },
    "tags": []
   },
   "outputs": [],
   "source": [
    "import datetime as dt\n",
    "import pandas as pd\n",
    "pd.set_option('display.max_columns', None)\n",
    "pd.set_option('display.max_rows', 30)\n",
    "pd.set_option('display.float_format', lambda x: '%.3f' % x)\n",
    "\n",
    "#df_ = pd.read_excel(\"datasets/online_retail_II.xlsx\", sheet_name= \"Year 2009-2010\")\n",
    "#df = df_.copy()\n",
    "\n",
    "#df[\"TotalPrice\"] = df[\"Quantity\"] * df[\"Price\"]\n",
    "#df.dropna(inplace=True)\n",
    "\n",
    "\n",
    "### Calculating RFM Metrics ###\n",
    "\n",
    "#today_date = dt.datetime(2010, 12, 11)\n",
    "\n",
    "#rfm = df.groupby('Customer ID').agg({'InvoiceDate': lambda date: (today_date - date.max()).days,\n",
    "#                                     'Invoice': lambda num: num.nunique(),\n",
    "#                                     'TotalPrice': lambda TotalPrice: TotalPrice.sum()})\n",
    "\n",
    "#rfm.columns = ['recency', 'frequency', 'monetary']\n",
    "\n",
    "\n",
    "### Calculating RFM Scores ###\n",
    "\n",
    "#rfm[\"recency_score\"] = pd.qcut(rfm['recency'], 5, labels=[5, 4, 3, 2, 1])\n",
    "\n",
    "#rfm[\"frequency_score\"] = pd.qcut(rfm['frequency'].rank(method=\"first\"), 5, labels=[1, 2, 3, 4, 5])\n",
    "\n",
    "#rfm[\"monetary_score\"] = pd.qcut(rfm['monetary'], 5, labels=[1, 2, 3, 4, 5])\n",
    "\n",
    "\n",
    "#rfm[\"RFM_SCORE\"] = (rfm['recency_score'].astype(str) +\n",
    "#                    rfm['frequency_score'].astype(str))\n",
    "\n",
    "\n",
    "### Creating RFM Segments ###\n",
    "\n",
    "#seg_map = {\n",
    "#    r'[1-2][1-2]': 'hibernating',\n",
    "#    r'[1-2][3-4]': 'at_Risk',\n",
    "#    r'[1-2]5': 'cant_loose',\n",
    "#    r'3[1-2]': 'about_to_sleep',\n",
    "#    r'33': 'need_attention',\n",
    "#    r'[3-4][4-5]': 'loyal_customers',\n",
    "#    r'41': 'promising',\n",
    "#    r'51': 'new_customers',\n",
    "#    r'[4-5][2-3]': 'potential_loyalists',\n",
    "#    r'5[4-5]': 'champions',\n",
    "#}\n",
    "\n",
    "\n",
    "\n",
    "#rfm['segment'] = rfm['RFM_SCORE'].replace(seg_map, regex=True)\n",
    "\n"
   ]
  },
  {
   "cell_type": "markdown",
   "id": "a3a4cc6b",
   "metadata": {
    "papermill": {
     "duration": 0.002224,
     "end_time": "2024-09-10T01:21:44.761376",
     "exception": false,
     "start_time": "2024-09-10T01:21:44.759152",
     "status": "completed"
    },
    "tags": []
   },
   "source": [
    "**Customer Lifetime Value**"
   ]
  },
  {
   "cell_type": "code",
   "execution_count": 2,
   "id": "8566db92",
   "metadata": {
    "execution": {
     "iopub.execute_input": "2024-09-10T01:21:44.768220Z",
     "iopub.status.busy": "2024-09-10T01:21:44.767632Z",
     "iopub.status.idle": "2024-09-10T01:21:44.775790Z",
     "shell.execute_reply": "2024-09-10T01:21:44.774573Z"
    },
    "papermill": {
     "duration": 0.014514,
     "end_time": "2024-09-10T01:21:44.778332",
     "exception": false,
     "start_time": "2024-09-10T01:21:44.763818",
     "status": "completed"
    },
    "tags": []
   },
   "outputs": [],
   "source": [
    "import datetime as dt\n",
    "import pandas as pd\n",
    "pd.set_option('display.max_columns', None)\n",
    "pd.set_option('display.max_rows', 30)\n",
    "pd.set_option('display.float_format', lambda x: '%.3f' % x)\n",
    "\n",
    "#df_ = pd.read_excel(\"datasets/online_retail_II.xlsx\", sheet_name= \"Year 2009-2010\")\n",
    "#df = df_.copy()\n",
    "\n",
    "#df[\"TotalPrice\"] = df[\"Quantity\"] * df[\"Price\"]\n",
    "#df.dropna(inplace=True)\n",
    "\n",
    "#cltv_c = df.groupby('Customer ID').agg({\n",
    "#    'Invoice': lambda x: x.nunique(),\n",
    "#    'Quantity': lambda x: x.sum(),\n",
    "#    'TotalPrice': lambda x: x.sum()})\n",
    "\n",
    "#cltv_c.columns = ['total_transaction', 'total_unit', 'total_price']\n",
    "\n",
    "#cltv_c[\"average_order_value\"] = cltv_c[\"total_price\"] / cltv_c[\"total_transaction\"]\n",
    "\n",
    "#cltv_c[\"purchase_frequency\"] = cltv_c[\"total_transaction\"] / cltv_c.shape[0]\n",
    "\n",
    "#repeat_rate = cltv_c[cltv_c[\"total_transaction\"] > 1].shape[0] / cltv_c.shape[0]\n",
    "\n",
    "#churn_rate = 1 - repeat_rate\n",
    "\n",
    "#cltv_c['profit_margin'] = cltv_c[\"total_price\"] * 0.10\n",
    "\n",
    "#cltv_c['customer_value'] = cltv_c[\"average_order_value\"] * cltv_c[\"purchase_frequency\"]\n",
    "\n",
    "#cltv_c[\"cltv\"] = (cltv_c[\"customer_value\"] / churn_rate) * cltv_c[\"profit_margin\"]\n",
    "\n",
    "#cltv_c[\"segment\"] = pd.qcut(cltv_c[\"cltv\"], 4, labels=[\"D\", \"C\", \"B\", \"A\"])\n",
    "#cltv_c.sort_values(by=\"cltv\", ascending=False).head()"
   ]
  }
 ],
 "metadata": {
  "kaggle": {
   "accelerator": "none",
   "dataSources": [],
   "dockerImageVersionId": 30761,
   "isGpuEnabled": false,
   "isInternetEnabled": true,
   "language": "python",
   "sourceType": "notebook"
  },
  "kernelspec": {
   "display_name": "Python 3",
   "language": "python",
   "name": "python3"
  },
  "language_info": {
   "codemirror_mode": {
    "name": "ipython",
    "version": 3
   },
   "file_extension": ".py",
   "mimetype": "text/x-python",
   "name": "python",
   "nbconvert_exporter": "python",
   "pygments_lexer": "ipython3",
   "version": "3.10.14"
  },
  "papermill": {
   "default_parameters": {},
   "duration": 4.252082,
   "end_time": "2024-09-10T01:21:45.303314",
   "environment_variables": {},
   "exception": null,
   "input_path": "__notebook__.ipynb",
   "output_path": "__notebook__.ipynb",
   "parameters": {},
   "start_time": "2024-09-10T01:21:41.051232",
   "version": "2.6.0"
  }
 },
 "nbformat": 4,
 "nbformat_minor": 5
}
